{
 "cells": [
  {
   "cell_type": "code",
   "execution_count": 19,
   "metadata": {},
   "outputs": [
    {
     "name": "stdout",
     "output_type": "stream",
     "text": [
      "Requirement already satisfied: jax in /Users/kehanluo/anaconda3/lib/python3.11/site-packages (from -r requirements.txt (line 1)) (0.5.3)\n",
      "Requirement already satisfied: jaxtyping in /Users/kehanluo/anaconda3/lib/python3.11/site-packages (from -r requirements.txt (line 2)) (0.3.0)\n",
      "Requirement already satisfied: dm-haiku in /Users/kehanluo/anaconda3/lib/python3.11/site-packages (from -r requirements.txt (line 3)) (0.0.12)\n",
      "Requirement already satisfied: numpy in /Users/kehanluo/anaconda3/lib/python3.11/site-packages (from -r requirements.txt (line 4)) (1.26.4)\n",
      "Requirement already satisfied: numpyro in /Users/kehanluo/anaconda3/lib/python3.11/site-packages (from -r requirements.txt (line 5)) (0.15.0)\n",
      "Requirement already satisfied: optax in /Users/kehanluo/anaconda3/lib/python3.11/site-packages (from -r requirements.txt (line 6)) (0.2.2)\n",
      "Requirement already satisfied: matplotlib in /Users/kehanluo/anaconda3/lib/python3.11/site-packages (from -r requirements.txt (line 7)) (3.8.4)\n",
      "Requirement already satisfied: seaborn in /Users/kehanluo/anaconda3/lib/python3.11/site-packages (from -r requirements.txt (line 8)) (0.13.2)\n",
      "Requirement already satisfied: tqdm in /Users/kehanluo/anaconda3/lib/python3.11/site-packages (from -r requirements.txt (line 9)) (4.66.1)\n",
      "Requirement already satisfied: check-shapes>=1.1.1 in /Users/kehanluo/anaconda3/lib/python3.11/site-packages (from -r requirements.txt (line 10)) (1.1.1)\n",
      "Requirement already satisfied: equinox in /Users/kehanluo/anaconda3/lib/python3.11/site-packages (from -r requirements.txt (line 11)) (0.11.10)\n",
      "Requirement already satisfied: tensorflow-probability==0.24.0 in /Users/kehanluo/anaconda3/lib/python3.11/site-packages (from -r requirements.txt (line 12)) (0.24.0)\n",
      "Requirement already satisfied: tf-keras==2.19.0 in /Users/kehanluo/anaconda3/lib/python3.11/site-packages (from -r requirements.txt (line 13)) (2.19.0)\n",
      "Requirement already satisfied: keras==3.9.2 in /Users/kehanluo/anaconda3/lib/python3.11/site-packages (from -r requirements.txt (line 14)) (3.9.2)\n",
      "Requirement already satisfied: tensorflow==2.19.0 in /Users/kehanluo/anaconda3/lib/python3.11/site-packages (from -r requirements.txt (line 15)) (2.19.0)\n",
      "Requirement already satisfied: hydra-core==1.3.2 in /Users/kehanluo/anaconda3/lib/python3.11/site-packages (from -r requirements.txt (line 16)) (1.3.2)\n",
      "Requirement already satisfied: omegaconf>=2.3.0 in /Users/kehanluo/anaconda3/lib/python3.11/site-packages (from -r requirements.txt (line 17)) (2.3.0)\n",
      "Requirement already satisfied: diffrax in /Users/kehanluo/anaconda3/lib/python3.11/site-packages (from -r requirements.txt (line 18)) (0.7.0)\n",
      "Requirement already satisfied: absl-py in /Users/kehanluo/anaconda3/lib/python3.11/site-packages (from tensorflow-probability==0.24.0->-r requirements.txt (line 12)) (2.1.0)\n",
      "Requirement already satisfied: six>=1.10.0 in /Users/kehanluo/anaconda3/lib/python3.11/site-packages (from tensorflow-probability==0.24.0->-r requirements.txt (line 12)) (1.17.0)\n",
      "Requirement already satisfied: decorator in /Users/kehanluo/anaconda3/lib/python3.11/site-packages (from tensorflow-probability==0.24.0->-r requirements.txt (line 12)) (5.1.1)\n",
      "Requirement already satisfied: cloudpickle>=1.3 in /Users/kehanluo/anaconda3/lib/python3.11/site-packages (from tensorflow-probability==0.24.0->-r requirements.txt (line 12)) (3.0.0)\n",
      "Requirement already satisfied: gast>=0.3.2 in /Users/kehanluo/anaconda3/lib/python3.11/site-packages (from tensorflow-probability==0.24.0->-r requirements.txt (line 12)) (0.5.3)\n",
      "Requirement already satisfied: dm-tree in /Users/kehanluo/anaconda3/lib/python3.11/site-packages (from tensorflow-probability==0.24.0->-r requirements.txt (line 12)) (0.1.9)\n",
      "Requirement already satisfied: rich in /Users/kehanluo/anaconda3/lib/python3.11/site-packages (from keras==3.9.2->-r requirements.txt (line 14)) (13.9.4)\n",
      "Requirement already satisfied: namex in /Users/kehanluo/anaconda3/lib/python3.11/site-packages (from keras==3.9.2->-r requirements.txt (line 14)) (0.0.7)\n",
      "Requirement already satisfied: h5py in /Users/kehanluo/anaconda3/lib/python3.11/site-packages (from keras==3.9.2->-r requirements.txt (line 14)) (3.12.1)\n",
      "Requirement already satisfied: optree in /Users/kehanluo/anaconda3/lib/python3.11/site-packages (from keras==3.9.2->-r requirements.txt (line 14)) (0.12.1)\n",
      "Requirement already satisfied: ml-dtypes in /Users/kehanluo/anaconda3/lib/python3.11/site-packages (from keras==3.9.2->-r requirements.txt (line 14)) (0.5.1)\n",
      "Requirement already satisfied: packaging in /Users/kehanluo/anaconda3/lib/python3.11/site-packages (from keras==3.9.2->-r requirements.txt (line 14)) (24.2)\n",
      "Requirement already satisfied: astunparse>=1.6.0 in /Users/kehanluo/anaconda3/lib/python3.11/site-packages (from tensorflow==2.19.0->-r requirements.txt (line 15)) (1.6.3)\n",
      "Requirement already satisfied: flatbuffers>=24.3.25 in /Users/kehanluo/anaconda3/lib/python3.11/site-packages (from tensorflow==2.19.0->-r requirements.txt (line 15)) (24.3.25)\n",
      "Requirement already satisfied: google-pasta>=0.1.1 in /Users/kehanluo/anaconda3/lib/python3.11/site-packages (from tensorflow==2.19.0->-r requirements.txt (line 15)) (0.2.0)\n",
      "Requirement already satisfied: libclang>=13.0.0 in /Users/kehanluo/anaconda3/lib/python3.11/site-packages (from tensorflow==2.19.0->-r requirements.txt (line 15)) (18.1.1)\n",
      "Requirement already satisfied: opt-einsum>=2.3.2 in /Users/kehanluo/anaconda3/lib/python3.11/site-packages (from tensorflow==2.19.0->-r requirements.txt (line 15)) (3.3.0)\n",
      "Requirement already satisfied: protobuf!=4.21.0,!=4.21.1,!=4.21.2,!=4.21.3,!=4.21.4,!=4.21.5,<6.0.0dev,>=3.20.3 in /Users/kehanluo/anaconda3/lib/python3.11/site-packages (from tensorflow==2.19.0->-r requirements.txt (line 15)) (4.25.3)\n",
      "Requirement already satisfied: requests<3,>=2.21.0 in /Users/kehanluo/anaconda3/lib/python3.11/site-packages (from tensorflow==2.19.0->-r requirements.txt (line 15)) (2.32.3)\n",
      "Requirement already satisfied: setuptools in /Users/kehanluo/anaconda3/lib/python3.11/site-packages (from tensorflow==2.19.0->-r requirements.txt (line 15)) (75.6.0)\n",
      "Requirement already satisfied: termcolor>=1.1.0 in /Users/kehanluo/anaconda3/lib/python3.11/site-packages (from tensorflow==2.19.0->-r requirements.txt (line 15)) (2.1.0)\n",
      "Requirement already satisfied: typing-extensions>=3.6.6 in /Users/kehanluo/anaconda3/lib/python3.11/site-packages (from tensorflow==2.19.0->-r requirements.txt (line 15)) (4.12.2)\n",
      "Requirement already satisfied: wrapt>=1.11.0 in /Users/kehanluo/anaconda3/lib/python3.11/site-packages (from tensorflow==2.19.0->-r requirements.txt (line 15)) (1.14.1)\n",
      "Requirement already satisfied: grpcio<2.0,>=1.24.3 in /Users/kehanluo/anaconda3/lib/python3.11/site-packages (from tensorflow==2.19.0->-r requirements.txt (line 15)) (1.62.2)\n",
      "Requirement already satisfied: tensorboard~=2.19.0 in /Users/kehanluo/anaconda3/lib/python3.11/site-packages (from tensorflow==2.19.0->-r requirements.txt (line 15)) (2.19.0)\n",
      "Requirement already satisfied: tensorflow-io-gcs-filesystem>=0.23.1 in /Users/kehanluo/anaconda3/lib/python3.11/site-packages (from tensorflow==2.19.0->-r requirements.txt (line 15)) (0.37.1)\n",
      "Requirement already satisfied: antlr4-python3-runtime==4.9.* in /Users/kehanluo/anaconda3/lib/python3.11/site-packages (from hydra-core==1.3.2->-r requirements.txt (line 16)) (4.9.3)\n",
      "Requirement already satisfied: jaxlib<=0.5.3,>=0.5.3 in /Users/kehanluo/anaconda3/lib/python3.11/site-packages (from jax->-r requirements.txt (line 1)) (0.5.3)\n",
      "Requirement already satisfied: scipy>=1.11.1 in /Users/kehanluo/anaconda3/lib/python3.11/site-packages (from jax->-r requirements.txt (line 1)) (1.11.1)\n",
      "Requirement already satisfied: wadler-lindig>=0.1.3 in /Users/kehanluo/anaconda3/lib/python3.11/site-packages (from jaxtyping->-r requirements.txt (line 2)) (0.1.4)\n",
      "Requirement already satisfied: jmp>=0.0.2 in /Users/kehanluo/anaconda3/lib/python3.11/site-packages (from dm-haiku->-r requirements.txt (line 3)) (0.0.4)\n",
      "Requirement already satisfied: tabulate>=0.8.9 in /Users/kehanluo/anaconda3/lib/python3.11/site-packages (from dm-haiku->-r requirements.txt (line 3)) (0.9.0)\n",
      "Requirement already satisfied: flax>=0.7.1 in /Users/kehanluo/anaconda3/lib/python3.11/site-packages (from dm-haiku->-r requirements.txt (line 3)) (0.8.3)\n",
      "Requirement already satisfied: multipledispatch in /Users/kehanluo/anaconda3/lib/python3.11/site-packages (from numpyro->-r requirements.txt (line 5)) (0.6.0)\n",
      "Requirement already satisfied: chex>=0.1.86 in /Users/kehanluo/anaconda3/lib/python3.11/site-packages (from optax->-r requirements.txt (line 6)) (0.1.86)\n",
      "Requirement already satisfied: contourpy>=1.0.1 in /Users/kehanluo/anaconda3/lib/python3.11/site-packages (from matplotlib->-r requirements.txt (line 7)) (1.3.1)\n",
      "Requirement already satisfied: cycler>=0.10 in /Users/kehanluo/anaconda3/lib/python3.11/site-packages (from matplotlib->-r requirements.txt (line 7)) (0.11.0)\n",
      "Requirement already satisfied: fonttools>=4.22.0 in /Users/kehanluo/anaconda3/lib/python3.11/site-packages (from matplotlib->-r requirements.txt (line 7)) (4.51.0)\n",
      "Requirement already satisfied: kiwisolver>=1.3.1 in /Users/kehanluo/anaconda3/lib/python3.11/site-packages (from matplotlib->-r requirements.txt (line 7)) (1.4.4)\n",
      "Requirement already satisfied: pillow>=8 in /Users/kehanluo/anaconda3/lib/python3.11/site-packages (from matplotlib->-r requirements.txt (line 7)) (11.0.0)\n",
      "Requirement already satisfied: pyparsing>=2.3.1 in /Users/kehanluo/anaconda3/lib/python3.11/site-packages (from matplotlib->-r requirements.txt (line 7)) (3.2.0)\n",
      "Requirement already satisfied: python-dateutil>=2.7 in /Users/kehanluo/anaconda3/lib/python3.11/site-packages (from matplotlib->-r requirements.txt (line 7)) (2.9.0.post0)\n",
      "Requirement already satisfied: pandas>=1.2 in /Users/kehanluo/anaconda3/lib/python3.11/site-packages (from seaborn->-r requirements.txt (line 8)) (2.2.2)\n",
      "Requirement already satisfied: dropstackframe>=0.1.0 in /Users/kehanluo/anaconda3/lib/python3.11/site-packages (from check-shapes>=1.1.1->-r requirements.txt (line 10)) (0.1.1)\n",
      "Requirement already satisfied: lark<2.0.0,>=1.1.0 in /Users/kehanluo/anaconda3/lib/python3.11/site-packages (from check-shapes>=1.1.1->-r requirements.txt (line 10)) (1.2.2)\n",
      "Requirement already satisfied: PyYAML>=5.1.0 in /Users/kehanluo/anaconda3/lib/python3.11/site-packages (from omegaconf>=2.3.0->-r requirements.txt (line 17)) (6.0.2)\n",
      "Requirement already satisfied: lineax>=0.0.5 in /Users/kehanluo/anaconda3/lib/python3.11/site-packages (from diffrax->-r requirements.txt (line 18)) (0.0.8)\n",
      "Requirement already satisfied: optimistix>=0.0.10 in /Users/kehanluo/anaconda3/lib/python3.11/site-packages (from diffrax->-r requirements.txt (line 18)) (0.0.10)\n",
      "Requirement already satisfied: wheel<1.0,>=0.23.0 in /Users/kehanluo/anaconda3/lib/python3.11/site-packages (from astunparse>=1.6.0->tensorflow==2.19.0->-r requirements.txt (line 15)) (0.38.4)\n",
      "Requirement already satisfied: toolz>=0.9.0 in /Users/kehanluo/anaconda3/lib/python3.11/site-packages (from chex>=0.1.86->optax->-r requirements.txt (line 6)) (0.12.0)\n",
      "Requirement already satisfied: msgpack in /Users/kehanluo/anaconda3/lib/python3.11/site-packages (from flax>=0.7.1->dm-haiku->-r requirements.txt (line 3)) (1.0.3)\n",
      "Requirement already satisfied: orbax-checkpoint in /Users/kehanluo/anaconda3/lib/python3.11/site-packages (from flax>=0.7.1->dm-haiku->-r requirements.txt (line 3)) (0.5.16)\n",
      "Requirement already satisfied: tensorstore in /Users/kehanluo/anaconda3/lib/python3.11/site-packages (from flax>=0.7.1->dm-haiku->-r requirements.txt (line 3)) (0.1.73)\n",
      "Requirement already satisfied: pytz>=2020.1 in /Users/kehanluo/anaconda3/lib/python3.11/site-packages (from pandas>=1.2->seaborn->-r requirements.txt (line 8)) (2024.1)\n",
      "Requirement already satisfied: tzdata>=2022.7 in /Users/kehanluo/anaconda3/lib/python3.11/site-packages (from pandas>=1.2->seaborn->-r requirements.txt (line 8)) (2023.3)\n",
      "Requirement already satisfied: charset-normalizer<4,>=2 in /Users/kehanluo/anaconda3/lib/python3.11/site-packages (from requests<3,>=2.21.0->tensorflow==2.19.0->-r requirements.txt (line 15)) (3.4.0)\n",
      "Requirement already satisfied: idna<4,>=2.5 in /Users/kehanluo/anaconda3/lib/python3.11/site-packages (from requests<3,>=2.21.0->tensorflow==2.19.0->-r requirements.txt (line 15)) (3.10)\n",
      "Requirement already satisfied: urllib3<3,>=1.21.1 in /Users/kehanluo/anaconda3/lib/python3.11/site-packages (from requests<3,>=2.21.0->tensorflow==2.19.0->-r requirements.txt (line 15)) (2.2.3)\n",
      "Requirement already satisfied: certifi>=2017.4.17 in /Users/kehanluo/anaconda3/lib/python3.11/site-packages (from requests<3,>=2.21.0->tensorflow==2.19.0->-r requirements.txt (line 15)) (2024.12.14)\n",
      "Requirement already satisfied: markdown-it-py>=2.2.0 in /Users/kehanluo/anaconda3/lib/python3.11/site-packages (from rich->keras==3.9.2->-r requirements.txt (line 14)) (2.2.0)\n",
      "Requirement already satisfied: pygments<3.0.0,>=2.13.0 in /Users/kehanluo/anaconda3/lib/python3.11/site-packages (from rich->keras==3.9.2->-r requirements.txt (line 14)) (2.18.0)\n",
      "Requirement already satisfied: markdown>=2.6.8 in /Users/kehanluo/anaconda3/lib/python3.11/site-packages (from tensorboard~=2.19.0->tensorflow==2.19.0->-r requirements.txt (line 15)) (3.4.1)\n",
      "Requirement already satisfied: tensorboard-data-server<0.8.0,>=0.7.0 in /Users/kehanluo/anaconda3/lib/python3.11/site-packages (from tensorboard~=2.19.0->tensorflow==2.19.0->-r requirements.txt (line 15)) (0.7.0)\n",
      "Requirement already satisfied: werkzeug>=1.0.1 in /Users/kehanluo/anaconda3/lib/python3.11/site-packages (from tensorboard~=2.19.0->tensorflow==2.19.0->-r requirements.txt (line 15)) (3.0.6)\n",
      "Requirement already satisfied: attrs>=18.2.0 in /Users/kehanluo/anaconda3/lib/python3.11/site-packages (from dm-tree->tensorflow-probability==0.24.0->-r requirements.txt (line 12)) (24.2.0)\n",
      "Requirement already satisfied: mdurl~=0.1 in /Users/kehanluo/anaconda3/lib/python3.11/site-packages (from markdown-it-py>=2.2.0->rich->keras==3.9.2->-r requirements.txt (line 14)) (0.1.0)\n",
      "Requirement already satisfied: MarkupSafe>=2.1.1 in /Users/kehanluo/anaconda3/lib/python3.11/site-packages (from werkzeug>=1.0.1->tensorboard~=2.19.0->tensorflow==2.19.0->-r requirements.txt (line 15)) (3.0.2)\n",
      "Requirement already satisfied: etils[epath,epy] in /Users/kehanluo/anaconda3/lib/python3.11/site-packages (from orbax-checkpoint->flax>=0.7.1->dm-haiku->-r requirements.txt (line 3)) (1.12.2)\n",
      "Requirement already satisfied: nest_asyncio in /Users/kehanluo/anaconda3/lib/python3.11/site-packages (from orbax-checkpoint->flax>=0.7.1->dm-haiku->-r requirements.txt (line 3)) (1.6.0)\n",
      "Requirement already satisfied: fsspec in /Users/kehanluo/anaconda3/lib/python3.11/site-packages (from etils[epath,epy]->orbax-checkpoint->flax>=0.7.1->dm-haiku->-r requirements.txt (line 3)) (2024.10.0)\n",
      "Requirement already satisfied: importlib_resources in /Users/kehanluo/anaconda3/lib/python3.11/site-packages (from etils[epath,epy]->orbax-checkpoint->flax>=0.7.1->dm-haiku->-r requirements.txt (line 3)) (6.4.0)\n",
      "Requirement already satisfied: zipp in /Users/kehanluo/anaconda3/lib/python3.11/site-packages (from etils[epath,epy]->orbax-checkpoint->flax>=0.7.1->dm-haiku->-r requirements.txt (line 3)) (3.21.0)\n",
      "\n",
      "\u001b[1m[\u001b[0m\u001b[34;49mnotice\u001b[0m\u001b[1;39;49m]\u001b[0m\u001b[39;49m A new release of pip is available: \u001b[0m\u001b[31;49m25.0.1\u001b[0m\u001b[39;49m -> \u001b[0m\u001b[32;49m25.1.1\u001b[0m\n",
      "\u001b[1m[\u001b[0m\u001b[34;49mnotice\u001b[0m\u001b[1;39;49m]\u001b[0m\u001b[39;49m To update, run: \u001b[0m\u001b[32;49mpip install --upgrade pip\u001b[0m\n"
     ]
    }
   ],
   "source": [
    "!pip install -r requirements.txt"
   ]
  },
  {
   "cell_type": "code",
   "execution_count": 20,
   "metadata": {},
   "outputs": [],
   "source": [
    "%matplotlib inline"
   ]
  },
  {
   "cell_type": "code",
   "execution_count": 22,
   "metadata": {},
   "outputs": [
    {
     "ename": "AttributeError",
     "evalue": "partially initialized module 'hydra' has no attribute '_internal' (most likely due to a circular import)",
     "output_type": "error",
     "traceback": [
      "\u001b[0;31m---------------------------------------------------------------------------\u001b[0m",
      "\u001b[0;31mAttributeError\u001b[0m                            Traceback (most recent call last)",
      "File \u001b[0;32m~/Desktop/sampler workspace/Large-scale-sampler-evaluation/experiments/PDDS/1D-Gaussian.py:51\u001b[0m\n\u001b[1;32m     48\u001b[0m \u001b[38;5;28;01mimport\u001b[39;00m \u001b[38;5;21;01mseaborn\u001b[39;00m \u001b[38;5;28;01mas\u001b[39;00m \u001b[38;5;21;01msns\u001b[39;00m\n\u001b[1;32m     50\u001b[0m \u001b[38;5;66;03m# PDDS modules\u001b[39;00m\n\u001b[0;32m---> 51\u001b[0m \u001b[38;5;28;01mfrom\u001b[39;00m \u001b[38;5;21;01mpdds\u001b[39;00m\u001b[38;5;21;01m.\u001b[39;00m\u001b[38;5;21;01msde\u001b[39;00m \u001b[38;5;28;01mimport\u001b[39;00m SDE, guidance_loss, dsm_loss, LinearScheduler\n\u001b[1;32m     52\u001b[0m \u001b[38;5;28;01mfrom\u001b[39;00m \u001b[38;5;21;01mpdds\u001b[39;00m\u001b[38;5;21;01m.\u001b[39;00m\u001b[38;5;21;01msmc_problem\u001b[39;00m \u001b[38;5;28;01mimport\u001b[39;00m SMCProblem\n\u001b[1;32m     53\u001b[0m \u001b[38;5;28;01mfrom\u001b[39;00m \u001b[38;5;21;01mpdds\u001b[39;00m\u001b[38;5;21;01m.\u001b[39;00m\u001b[38;5;21;01mpotentials\u001b[39;00m \u001b[38;5;28;01mimport\u001b[39;00m (\n\u001b[1;32m     54\u001b[0m     RatioPotential, \n\u001b[1;32m     55\u001b[0m     NaivelyApproximatedPotential, \n\u001b[1;32m     56\u001b[0m     NNApproximatedPotential\n\u001b[1;32m     57\u001b[0m )\n",
      "File \u001b[0;32m~/Desktop/sampler workspace/Large-scale-sampler-evaluation/pdds/sde.py:18\u001b[0m\n\u001b[1;32m     15\u001b[0m \u001b[38;5;28;01mimport\u001b[39;00m \u001b[38;5;21;01mtyping\u001b[39;00m \u001b[38;5;28;01mas\u001b[39;00m \u001b[38;5;21;01mtp\u001b[39;00m\n\u001b[1;32m     16\u001b[0m \u001b[38;5;28;01mfrom\u001b[39;00m \u001b[38;5;21;01mcheck_shapes\u001b[39;00m \u001b[38;5;28;01mimport\u001b[39;00m check_shapes\n\u001b[0;32m---> 18\u001b[0m \u001b[38;5;28;01mfrom\u001b[39;00m \u001b[38;5;21;01mpdds\u001b[39;00m\u001b[38;5;21;01m.\u001b[39;00m\u001b[38;5;21;01mutils\u001b[39;00m\u001b[38;5;21;01m.\u001b[39;00m\u001b[38;5;21;01mjax\u001b[39;00m \u001b[38;5;28;01mimport\u001b[39;00m x_gradient_no_t, x_gradient_no_t_stateful\n\u001b[1;32m     20\u001b[0m Key \u001b[38;5;241m=\u001b[39m PRNGKeyArray\n\u001b[1;32m     22\u001b[0m \u001b[38;5;28;01mfrom\u001b[39;00m \u001b[38;5;21;01mjaxtyping\u001b[39;00m \u001b[38;5;28;01mimport\u001b[39;00m install_import_hook\n",
      "File \u001b[0;32m~/Desktop/sampler workspace/Large-scale-sampler-evaluation/pdds/utils/__init__.py:1\u001b[0m\n\u001b[0;32m----> 1\u001b[0m \u001b[38;5;28;01mfrom\u001b[39;00m \u001b[38;5;21;01m.\u001b[39;00m\u001b[38;5;21;01mcfg\u001b[39;00m \u001b[38;5;28;01mimport\u001b[39;00m \u001b[38;5;241m*\u001b[39m\n",
      "File \u001b[0;32m~/Desktop/sampler workspace/Large-scale-sampler-evaluation/pdds/utils/cfg.py:5\u001b[0m\n\u001b[1;32m      2\u001b[0m \u001b[38;5;28;01mimport\u001b[39;00m \u001b[38;5;21;01mfunctools\u001b[39;00m\n\u001b[1;32m      4\u001b[0m \u001b[38;5;28;01mimport\u001b[39;00m \u001b[38;5;21;01mnumpy\u001b[39;00m \u001b[38;5;28;01mas\u001b[39;00m \u001b[38;5;21;01mnp\u001b[39;00m\n\u001b[0;32m----> 5\u001b[0m \u001b[38;5;28;01mimport\u001b[39;00m \u001b[38;5;21;01mhydra\u001b[39;00m\n\u001b[1;32m      6\u001b[0m \u001b[38;5;28;01mfrom\u001b[39;00m \u001b[38;5;21;01momegaconf\u001b[39;00m \u001b[38;5;28;01mimport\u001b[39;00m DictConfig, OmegaConf\n\u001b[1;32m      9\u001b[0m \u001b[38;5;28;01mclass\u001b[39;00m \u001b[38;5;21;01mNoneHydra\u001b[39;00m:\n",
      "File \u001b[0;32m~/anaconda3/lib/python3.11/site-packages/hydra/__init__.py:5\u001b[0m\n\u001b[1;32m      1\u001b[0m \u001b[38;5;66;03m# Copyright (c) Facebook, Inc. and its affiliates. All Rights Reserved\u001b[39;00m\n\u001b[1;32m      2\u001b[0m \n\u001b[1;32m      3\u001b[0m \u001b[38;5;66;03m# Source of truth for Hydra's version\u001b[39;00m\n\u001b[1;32m      4\u001b[0m __version__ \u001b[38;5;241m=\u001b[39m \u001b[38;5;124m\"\u001b[39m\u001b[38;5;124m1.3.2\u001b[39m\u001b[38;5;124m\"\u001b[39m\n\u001b[0;32m----> 5\u001b[0m \u001b[38;5;28;01mfrom\u001b[39;00m \u001b[38;5;21;01mhydra\u001b[39;00m \u001b[38;5;28;01mimport\u001b[39;00m utils\n\u001b[1;32m      6\u001b[0m \u001b[38;5;28;01mfrom\u001b[39;00m \u001b[38;5;21;01mhydra\u001b[39;00m\u001b[38;5;21;01m.\u001b[39;00m\u001b[38;5;21;01merrors\u001b[39;00m \u001b[38;5;28;01mimport\u001b[39;00m MissingConfigException\n\u001b[1;32m      7\u001b[0m \u001b[38;5;28;01mfrom\u001b[39;00m \u001b[38;5;21;01mhydra\u001b[39;00m\u001b[38;5;21;01m.\u001b[39;00m\u001b[38;5;21;01mmain\u001b[39;00m \u001b[38;5;28;01mimport\u001b[39;00m main\n",
      "File \u001b[0;32m~/anaconda3/lib/python3.11/site-packages/hydra/utils.py:16\u001b[0m\n\u001b[1;32m     13\u001b[0m log \u001b[38;5;241m=\u001b[39m logging\u001b[38;5;241m.\u001b[39mgetLogger(\u001b[38;5;18m__name__\u001b[39m)\n\u001b[1;32m     15\u001b[0m \u001b[38;5;66;03m# Instantiation related symbols\u001b[39;00m\n\u001b[0;32m---> 16\u001b[0m instantiate \u001b[38;5;241m=\u001b[39m \u001b[43mhydra\u001b[49m\u001b[38;5;241;43m.\u001b[39;49m\u001b[43m_internal\u001b[49m\u001b[38;5;241m.\u001b[39minstantiate\u001b[38;5;241m.\u001b[39m_instantiate2\u001b[38;5;241m.\u001b[39minstantiate\n\u001b[1;32m     17\u001b[0m call \u001b[38;5;241m=\u001b[39m instantiate\n\u001b[1;32m     18\u001b[0m ConvertMode \u001b[38;5;241m=\u001b[39m hydra\u001b[38;5;241m.\u001b[39mtypes\u001b[38;5;241m.\u001b[39mConvertMode\n",
      "\u001b[0;31mAttributeError\u001b[0m: partially initialized module 'hydra' has no attribute '_internal' (most likely due to a circular import)"
     ]
    }
   ],
   "source": [
    "%run experiments/PDDS/1D-Gaussian.py"
   ]
  },
  {
   "cell_type": "code",
   "execution_count": null,
   "metadata": {},
   "outputs": [],
   "source": [
    "%run experiments/PDDS/1D-Gaussian_annealing.py"
   ]
  },
  {
   "cell_type": "code",
   "execution_count": null,
   "metadata": {},
   "outputs": [],
   "source": [
    "%run experiments/PDDS/2D-GM.py"
   ]
  },
  {
   "cell_type": "code",
   "execution_count": null,
   "metadata": {},
   "outputs": [],
   "source": [
    "%run experiments/PDDS/2D-hard-GM.py"
   ]
  },
  {
   "cell_type": "code",
   "execution_count": null,
   "metadata": {},
   "outputs": [],
   "source": [
    "%run experiments/PDDS/2D-hard-GM_annealing.py"
   ]
  },
  {
   "cell_type": "code",
   "execution_count": 21,
   "metadata": {},
   "outputs": [
    {
     "name": "stdout",
     "output_type": "stream",
     "text": [
      "Found deprecated jax.interpreters.xla module, applying patches...\n",
      "Successfully reloaded PDDS modules\n",
      "JAX compatibility patches applied\n"
     ]
    },
    {
     "ename": "AttributeError",
     "evalue": "partially initialized module 'hydra' has no attribute '_internal' (most likely due to a circular import)",
     "output_type": "error",
     "traceback": [
      "\u001b[0;31m---------------------------------------------------------------------------\u001b[0m",
      "\u001b[0;31mAttributeError\u001b[0m                            Traceback (most recent call last)",
      "File \u001b[0;32m~/Desktop/sampler workspace/Large-scale-sampler-evaluation/experiments/2D-GM-importance-sampling.py:51\u001b[0m\n\u001b[1;32m     48\u001b[0m \u001b[38;5;28;01mimport\u001b[39;00m \u001b[38;5;21;01mseaborn\u001b[39;00m \u001b[38;5;28;01mas\u001b[39;00m \u001b[38;5;21;01msns\u001b[39;00m\n\u001b[1;32m     50\u001b[0m \u001b[38;5;66;03m# PDDS modules - ensure we're using the newer JAX API\u001b[39;00m\n\u001b[0;32m---> 51\u001b[0m \u001b[38;5;28;01mfrom\u001b[39;00m \u001b[38;5;21;01mpdds\u001b[39;00m\u001b[38;5;21;01m.\u001b[39;00m\u001b[38;5;21;01mdistributions\u001b[39;00m \u001b[38;5;28;01mimport\u001b[39;00m NormalDistributionWrapper, ChallengingTwoDimensionalMixture\n\u001b[1;32m     52\u001b[0m \u001b[38;5;28;01mfrom\u001b[39;00m \u001b[38;5;21;01mpdds\u001b[39;00m\u001b[38;5;21;01m.\u001b[39;00m\u001b[38;5;21;01mresampling\u001b[39;00m \u001b[38;5;28;01mimport\u001b[39;00m resampler\n\u001b[1;32m     54\u001b[0m \u001b[38;5;66;03m# Import the fixed version of ImportanceSampling\u001b[39;00m\n",
      "File \u001b[0;32m~/Desktop/sampler workspace/Large-scale-sampler-evaluation/pdds/distributions.py:12\u001b[0m\n\u001b[1;32m     10\u001b[0m \u001b[38;5;28;01mimport\u001b[39;00m \u001b[38;5;21;01mnumpyro\u001b[39;00m\n\u001b[1;32m     11\u001b[0m \u001b[38;5;28;01mfrom\u001b[39;00m \u001b[38;5;21;01mjax\u001b[39;00m\u001b[38;5;21;01m.\u001b[39;00m\u001b[38;5;21;01mflatten_util\u001b[39;00m \u001b[38;5;28;01mimport\u001b[39;00m ravel_pytree\n\u001b[0;32m---> 12\u001b[0m \u001b[38;5;28;01mfrom\u001b[39;00m \u001b[38;5;21;01mpdds\u001b[39;00m\u001b[38;5;21;01m.\u001b[39;00m\u001b[38;5;21;01mutils\u001b[39;00m\u001b[38;5;21;01m.\u001b[39;00m\u001b[38;5;21;01mmore_utils\u001b[39;00m \u001b[38;5;28;01mimport\u001b[39;00m load_data\n\u001b[1;32m     14\u001b[0m \u001b[38;5;28;01mfrom\u001b[39;00m \u001b[38;5;21;01mjaxtyping\u001b[39;00m \u001b[38;5;28;01mimport\u001b[39;00m Float \u001b[38;5;28;01mas\u001b[39;00m f, PRNGKeyArray, Array, install_import_hook\n\u001b[1;32m     15\u001b[0m \u001b[38;5;28;01mimport\u001b[39;00m \u001b[38;5;21;01mtyping\u001b[39;00m \u001b[38;5;28;01mas\u001b[39;00m \u001b[38;5;21;01mtp\u001b[39;00m\n",
      "File \u001b[0;32m~/Desktop/sampler workspace/Large-scale-sampler-evaluation/pdds/utils/__init__.py:1\u001b[0m\n\u001b[0;32m----> 1\u001b[0m \u001b[38;5;28;01mfrom\u001b[39;00m \u001b[38;5;21;01m.\u001b[39;00m\u001b[38;5;21;01mcfg\u001b[39;00m \u001b[38;5;28;01mimport\u001b[39;00m \u001b[38;5;241m*\u001b[39m\n",
      "File \u001b[0;32m~/Desktop/sampler workspace/Large-scale-sampler-evaluation/pdds/utils/cfg.py:5\u001b[0m\n\u001b[1;32m      2\u001b[0m \u001b[38;5;28;01mimport\u001b[39;00m \u001b[38;5;21;01mfunctools\u001b[39;00m\n\u001b[1;32m      4\u001b[0m \u001b[38;5;28;01mimport\u001b[39;00m \u001b[38;5;21;01mnumpy\u001b[39;00m \u001b[38;5;28;01mas\u001b[39;00m \u001b[38;5;21;01mnp\u001b[39;00m\n\u001b[0;32m----> 5\u001b[0m \u001b[38;5;28;01mimport\u001b[39;00m \u001b[38;5;21;01mhydra\u001b[39;00m\n\u001b[1;32m      6\u001b[0m \u001b[38;5;28;01mfrom\u001b[39;00m \u001b[38;5;21;01momegaconf\u001b[39;00m \u001b[38;5;28;01mimport\u001b[39;00m DictConfig, OmegaConf\n\u001b[1;32m      9\u001b[0m \u001b[38;5;28;01mclass\u001b[39;00m \u001b[38;5;21;01mNoneHydra\u001b[39;00m:\n",
      "File \u001b[0;32m~/anaconda3/lib/python3.11/site-packages/hydra/__init__.py:5\u001b[0m\n\u001b[1;32m      1\u001b[0m \u001b[38;5;66;03m# Copyright (c) Facebook, Inc. and its affiliates. All Rights Reserved\u001b[39;00m\n\u001b[1;32m      2\u001b[0m \n\u001b[1;32m      3\u001b[0m \u001b[38;5;66;03m# Source of truth for Hydra's version\u001b[39;00m\n\u001b[1;32m      4\u001b[0m __version__ \u001b[38;5;241m=\u001b[39m \u001b[38;5;124m\"\u001b[39m\u001b[38;5;124m1.3.2\u001b[39m\u001b[38;5;124m\"\u001b[39m\n\u001b[0;32m----> 5\u001b[0m \u001b[38;5;28;01mfrom\u001b[39;00m \u001b[38;5;21;01mhydra\u001b[39;00m \u001b[38;5;28;01mimport\u001b[39;00m utils\n\u001b[1;32m      6\u001b[0m \u001b[38;5;28;01mfrom\u001b[39;00m \u001b[38;5;21;01mhydra\u001b[39;00m\u001b[38;5;21;01m.\u001b[39;00m\u001b[38;5;21;01merrors\u001b[39;00m \u001b[38;5;28;01mimport\u001b[39;00m MissingConfigException\n\u001b[1;32m      7\u001b[0m \u001b[38;5;28;01mfrom\u001b[39;00m \u001b[38;5;21;01mhydra\u001b[39;00m\u001b[38;5;21;01m.\u001b[39;00m\u001b[38;5;21;01mmain\u001b[39;00m \u001b[38;5;28;01mimport\u001b[39;00m main\n",
      "File \u001b[0;32m~/anaconda3/lib/python3.11/site-packages/hydra/utils.py:16\u001b[0m\n\u001b[1;32m     13\u001b[0m log \u001b[38;5;241m=\u001b[39m logging\u001b[38;5;241m.\u001b[39mgetLogger(\u001b[38;5;18m__name__\u001b[39m)\n\u001b[1;32m     15\u001b[0m \u001b[38;5;66;03m# Instantiation related symbols\u001b[39;00m\n\u001b[0;32m---> 16\u001b[0m instantiate \u001b[38;5;241m=\u001b[39m \u001b[43mhydra\u001b[49m\u001b[38;5;241;43m.\u001b[39;49m\u001b[43m_internal\u001b[49m\u001b[38;5;241m.\u001b[39minstantiate\u001b[38;5;241m.\u001b[39m_instantiate2\u001b[38;5;241m.\u001b[39minstantiate\n\u001b[1;32m     17\u001b[0m call \u001b[38;5;241m=\u001b[39m instantiate\n\u001b[1;32m     18\u001b[0m ConvertMode \u001b[38;5;241m=\u001b[39m hydra\u001b[38;5;241m.\u001b[39mtypes\u001b[38;5;241m.\u001b[39mConvertMode\n",
      "\u001b[0;31mAttributeError\u001b[0m: partially initialized module 'hydra' has no attribute '_internal' (most likely due to a circular import)"
     ]
    }
   ],
   "source": [
    "%run experiments/2D-GM-importance-sampling.py"
   ]
  },
  {
   "cell_type": "code",
   "execution_count": null,
   "metadata": {},
   "outputs": [],
   "source": []
  }
 ],
 "metadata": {
  "kernelspec": {
   "display_name": "base",
   "language": "python",
   "name": "python3"
  },
  "language_info": {
   "codemirror_mode": {
    "name": "ipython",
    "version": 3
   },
   "file_extension": ".py",
   "mimetype": "text/x-python",
   "name": "python",
   "nbconvert_exporter": "python",
   "pygments_lexer": "ipython3",
   "version": "3.11.0"
  }
 },
 "nbformat": 4,
 "nbformat_minor": 2
}
